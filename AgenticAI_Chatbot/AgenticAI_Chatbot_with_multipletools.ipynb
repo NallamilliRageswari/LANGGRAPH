{
 "cells": [
  {
   "cell_type": "code",
   "execution_count": 1,
   "metadata": {},
   "outputs": [],
   "source": [
    "##Tools\n",
    "from langchain_community.tools import ArxivQueryRun,WikipediaQueryRun\n",
    "from langchain_community.utilities import WikipediaAPIWrapper,ArxivAPIWrapper"
   ]
  },
  {
   "cell_type": "code",
   "execution_count": 2,
   "metadata": {},
   "outputs": [
    {
     "name": "stdout",
     "output_type": "stream",
     "text": [
      "arxiv\n"
     ]
    }
   ],
   "source": [
    "#creating the tools\n",
    "\n",
    "api_wrapper_arxiv = ArxivAPIWrapper(top_k_results = 2,doc_content_chars_max=500)\n",
    "arxiv = ArxivQueryRun(api_wrapper=api_wrapper_arxiv,description=\"Query arxiv papers\")\n",
    "print(arxiv.name)"
   ]
  },
  {
   "cell_type": "code",
   "execution_count": 3,
   "metadata": {},
   "outputs": [
    {
     "data": {
      "text/plain": [
       "'Published: 2021-05-31\\nTitle: Quantum computing hardware in the cloud: Should a computational chemist care?\\nAuthors: A. Rossi, P. G. Baity, V. M. Schäfer, M. Weides\\nSummary: Within the last decade much progress has been made in the experimental\\nrealisation of quantum computing hardware based on a variety of physical\\nsystems. Rapid progress has been fuelled by the conviction that sufficiently\\npowerful quantum machines will herald enormous computational advantages in many\\nfields, including chemical'"
      ]
     },
     "execution_count": 3,
     "metadata": {},
     "output_type": "execute_result"
    }
   ],
   "source": [
    "arxiv.invoke(\"What is latest research on quantum computing\")"
   ]
  },
  {
   "cell_type": "code",
   "execution_count": 4,
   "metadata": {},
   "outputs": [
    {
     "name": "stdout",
     "output_type": "stream",
     "text": [
      "wikipedia\n"
     ]
    }
   ],
   "source": [
    "#wikipedia\n",
    "api_wrapper_wiki = WikipediaAPIWrapper(top_k_results = 1,doc_content_chars_max=500)\n",
    "wiki = WikipediaQueryRun(api_wrapper= api_wrapper_wiki)\n",
    "print(wiki.name)"
   ]
  },
  {
   "cell_type": "code",
   "execution_count": 5,
   "metadata": {},
   "outputs": [],
   "source": [
    "from dotenv import load_dotenv\n",
    "load_dotenv()\n",
    "import os\n",
    "\n",
    "os.environ[\"TAVILY_API_KEY\"] = os.getenv(\"TAVILY_API_KEY\")\n",
    "os.environ[\"GROQ_API_KEY\"]= os.getenv(\"GROQ_API_KEY\")\n"
   ]
  },
  {
   "cell_type": "code",
   "execution_count": 6,
   "metadata": {},
   "outputs": [],
   "source": [
    "##Tavily seach tool (internet tool)\n",
    "from langchain_community.tools.tavily_search import TavilySearchResults\n",
    "tavily = TavilySearchResults()"
   ]
  },
  {
   "cell_type": "code",
   "execution_count": 7,
   "metadata": {},
   "outputs": [
    {
     "data": {
      "text/plain": [
       "[{'url': 'https://www.artificialintelligence-news.com/',\n",
       "  'content': 'March 4, 2025\\nAutoscience Carl: The first AI scientist writing peer-reviewed papers\\nApplications\\nMarch 3, 2025\\nDeep Learning\\nAlibaba Qwen QwQ-32B: Scaled reinforcement learning showcase\\nArtificial Intelligence\\nMarch 6, 2025\\nDeepSeek-R1 reasoning models rival OpenAI in performance\\nArtificial Intelligence\\nJanuary 20, 2025\\nNew AI training techniques aim to overcome current challenges\\nDeep & Reinforcement Learning\\nNovember 28, 2024 [...] Artificial Intelligence\\nMarch 14, 2025\\nOpenAI and Google call for US government action to secure AI lead\\n\\nArtificial Intelligence\\nMarch 14, 2025\\nCBRE: Leveraging Artificial Intelligence for business growth\\n\\nAGI\\nMarch 14, 2025\\nManus AI agent: breakthrough in China’s agentic AI\\n\\nApplications\\nMarch 13, 2025\\nServiceNow deploys AI agents to boost enterprise workflows [...] AI News\\nMarch 20, 2025\\nUK minister in US to pitch Britain as global AI investment hub\\n\\nTelecoms Tech News\\nMarch 20, 2025\\nOfcom plans rules to drive UK full-fibre broadband to 96% coverage\\n\\nMarketing Tech News\\nMarch 20, 2025\\nOracle continues talks with White House to run TikTok\\n\\nMarketing Tech News\\nMarch 19, 2025\\nSocial media platforms face fines and criminal prosecution in UK\\n\\nAI News\\nMarch 19, 2025\\nNVIDIA Dynamo: Scaling AI inference with open-source efficiency'},\n",
       " {'url': 'https://www.sciencedaily.com/news/computers_math/artificial_intelligence/',\n",
       "  'content': \"Using Robots in Nursing Homes Linked to Higher Employee Retention, Better Patient Care\\n\\nMonday, January 6, 2025\\n\\nAI Slashes Cost and Time for Chip Design, but That Is Not All\\n\\nThursday, January 2, 2025\\n\\nArtificial Intelligence: Algorithms Improve Medical Image Analysis\\n\\nFriday, December 27, 2024\\n\\nCrossing the Uncanny Valley: Breakthrough in Technology for Lifelike Facial Expressions in Androids\\n\\nThursday, December 26, 2024\\n\\nWind Sensing by Biomimetic Flexible Flapping Wing With Strain Sensors [...] Tuesday, November 12, 2024\\n\\nGiving Robots Superhuman Vision Using Radio Signals\\n\\nMonday, November 11, 2024\\n\\nAI Can Detect Serious Neurologic Changes in Babies in the NICU Using Video Data Alone\\nRobot That Watched Surgery Videos Performs With Skill of Human Doctor, Researchers Report\\n\\nThursday, November 7, 2024\\n\\nRobot Learns How to Clean a Washbasin\\n\\nWednesday, November 6, 2024\\n\\nAI-Driven Mobile Robots Team Up to Tackle Chemical Synthesis\\n\\nThursday, October 31, 2024 [...] Thursday, December 19, 2024\\n\\nMachine Psychology: A Bridge to General AI?\\nLaser-Based Artificial Neuron Mimics Nerve Cell Functions at Lightning Speed\\n\\nWednesday, December 18, 2024\\n\\nSwarms of 'ant-Like' Robots Lift Heavy Objects and Hurl Themselves Over Obstacles\\n\\nTuesday, December 17, 2024\\n\\nDeveloping Artificial Intelligence Tools for Health Care\\nTiny Robots, Big Impact: Revolutionizing Infertility Treatment With Magnetic Microrobots\\n\\nMonday, December 16, 2024\"},\n",
       " {'url': 'https://techcrunch.com/category/artificial-intelligence/',\n",
       "  'content': 'Maxwell Zeff\\n\\n4 days ago\\n\\n\\n\\nMedia & Entertainment\\nYouTube rolls out a free AI music-making tool for creators\\n\\nSarah Perez\\n\\n4 days ago\\n\\n\\n\\nAI\\nAmazon CEO Andy Jassy urges companies to invest heavily in AI\\n\\nRebecca Szkutak\\n\\n4 days ago\\n\\n\\n\\nClimate\\nGoogle thinks AI can untangle the electrical grid’s bureaucracy\\n\\nTim De Chant\\n\\n4 days ago\\n\\n\\n\\nAI\\nIncident.io raises $62M at a $400M valuation to help IT teams move fast when things break\\n\\nIngrid Lunden\\n\\n4 days ago [...] AI\\nThe rise of AI ‘reasoning’ models is making benchmarking more expensive\\n\\nKyle Wiggers\\n\\n4 days ago\\n\\n\\n\\nFintech\\nAI insurtech Ominimo bags its first investment at a $220M valuation\\n\\nIngrid Lunden\\n\\n4 days ago\\n\\n\\n\\nAI\\nElon Musk’s AI company, xAI, launches an API for Grok 3\\n\\nKyle Wiggers\\n\\n4 days ago\\n\\n\\n\\nAI\\nGoogle to embrace Anthropic’s standard for connecting AI models to data\\n\\nKyle Wiggers\\n\\n5 days ago\\n\\n\\n\\nAI\\nOpenAI countersues Elon Musk, calls for enjoinment from ‘further unlawful and unfair action’ [...] AI\\nAI models still struggle to debug software, Microsoft study shows\\n\\nKyle Wiggers\\n\\n4 days ago\\n\\n\\n\\nAI\\nThe US Secretary of Education referred to AI as ‘A1,’ like the steak sauce\\n\\nAmanda Silberling\\n\\n4 days ago\\n\\n\\n\\nApps\\nCanva is getting AI image generation, interactive coding, spreadsheets, and more\\n\\nIvan Mehta\\n\\n4 days ago\\n\\n\\n\\nAI\\nLiveKit’s tools power real-time communications, including OpenAI’s Voice Mode\\n\\nKyle Wiggers\\n\\n4 days ago\\n\\n\\n\\nAI\\nOpenAI updates ChatGPT to reference your past chats'},\n",
       " {'url': 'https://www.nbcnews.com/artificial-intelligence',\n",
       "  'content': \"ARTIFICIAL INTELLIGENCE\\nThe latest news and top stories on artificial intelligence, including ChatGPT, AI Chatbot and Bard.\\n Getty Images\\nARTIFICIAL INTELLIGENCE\\n'Billionaires versus billionaires': OpenAI feud between Elon Musk, Sam Altman faces federal judge\\n SeongJoon Cho / Bloomberg via Getty Images file\\nARTIFICIAL INTELLIGENCE\\nOpenAI partners with U.S. National Laboratories on scientific research, nuclear weapons security\\nAI NEWS\"}]"
      ]
     },
     "execution_count": 7,
     "metadata": {},
     "output_type": "execute_result"
    }
   ],
   "source": [
    "tavily.invoke(\"Provide me the recent AI news?\")"
   ]
  },
  {
   "cell_type": "code",
   "execution_count": 8,
   "metadata": {},
   "outputs": [],
   "source": [
    "##Combine all these tools in list\n",
    "tools = [arxiv,wiki,tavily]"
   ]
  },
  {
   "cell_type": "code",
   "execution_count": 9,
   "metadata": {},
   "outputs": [],
   "source": [
    "#Initialize the LLM Model\n",
    "from langchain_groq import ChatGroq\n",
    "llm = ChatGroq(model = \"qwen-qwq-32b\")"
   ]
  },
  {
   "cell_type": "code",
   "execution_count": 10,
   "metadata": {},
   "outputs": [
    {
     "data": {
      "text/plain": [
       "AIMessage(content='\\n<think>\\nOkay, so I need to explain what AI is. Let\\'s start with the basics. AI stands for Artificial Intelligence. From what I remember, it\\'s a field of computer science that deals with creating machines or software that can perform tasks that typically require human intelligence. But wait, that\\'s pretty broad. Maybe I should break it down into different types.\\n\\nThere\\'s something called general AI, which is like human-level intelligence where machines can handle any intellectual task a human can. But I think that\\'s still theoretical and not really achieved yet. Then there\\'s narrow AI, which is the type we see today, like voice assistants, recommendation systems, or image recognition. Those are good at specific tasks but can\\'t do much else.\\n\\nHmm, how do these systems work? I think machine learning is a subset of AI. So AI uses algorithms and data to learn and make decisions. Neural networks, maybe? Those are inspired by the human brain. They have layers of nodes that process information. Deep learning is a part of machine learning using deeper neural networks.\\n\\nWait, I should mention that AI can involve things like perception, problem-solving, learning, and reasoning. Applications include things like self-driving cars, medical diagnosis, fraud detection. But there are also ethical considerations, like bias in algorithms or job displacement. Oh right, ethical AI is a big topic now.\\n\\nLet me structure this. Start with a definition, then types (general vs. narrow), methods (machine learning, neural networks), applications, and then maybe mention challenges and ethical issues. Need to make sure I don\\'t get too technical but cover the essentials. Also, clarify that AI isn\\'t just one thing but a collection of technologies and approaches. Maybe also touch on how it\\'s evolved over time, like from symbolic AI to data-driven approaches now.\\n\\nWait, some people might confuse AI with robotics, but AI can be software without physical form. Also, terms like \"machine learning\" and \"deep learning\" are subsets. Need to differentiate them. Also, maybe mention the goals of AI, like creating systems that can think and act rationally and autonomously.\\n\\nLet me check if I\\'m missing anything. Maybe examples of AI in everyday life? Like Siri, Alexa, recommendation systems on Netflix. Also, maybe mention that AI requires data; the quality of data affects the AI\\'s performance. Overfitting, training datasets, etc. But maybe that\\'s too detailed. Keep it high-level unless the user asks for more specifics.\\n\\nSo putting it all together: define AI, types, how it works (ML, DL, neural networks), applications, challenges, and ethics. Make sure to explain terms in simple language. Avoid jargon where possible. Alright, I think that covers it. Let me put this into a coherent answer now.\\n</think>\\n\\n**Artificial Intelligence (AI)** refers to the simulation of human intelligence in machines, enabling them to perform tasks that typically require human cognition, such as learning, problem-solving, decision-making, and perception. Here\\'s a structured overview:\\n\\n### **Key Concepts**\\n1. **Definitions**:\\n   - **AI**: A broad field focused on creating systems that can perceive, reason, learn, and act intelligently.\\n   - **Narrow AI (Weak AI)**: Systems designed for specific tasks (e.g., voice assistants, spam filters). This is the current reality.\\n   - **General AI (AGI or Strong AI)**: Hypothetical systems with human-like intelligence across all cognitive tasks. Not yet achieved.\\n\\n2. **How It Works**:\\n   - **Machine Learning (ML)**: A subset where systems learn patterns from data to make predictions or decisions without explicit programming.\\n   - **Deep Learning (DL)**: A specialized form of ML using neural networks with many layers (deep neural networks) to process complex data like images or speech.\\n   - **Neural Networks**: Computational models inspired by the human brain, processing information through interconnected nodes.\\n\\n3. **Core Capabilities**:\\n   - **Learning**: Improving performance through experience (e.g., identifying objects in images).\\n   - **Reasoning**: Drawing conclusions from data (e.g., solving puzzles or legal reasoning).\\n   - **Perception**: Interpreting sensory data (e.g., voice recognition, computer vision).\\n   - **Natural Language Processing (NLP)**: Understanding and generating human language (e.g., chatbots, translation tools).\\n\\n### **Applications**\\n- **Everyday Examples**: \\n  - Voice assistants (Siri, Alexa).\\n  - Recommendation systems (Netflix, Spotify).\\n  - Image recognition (Facebook’s photo tagging).\\n- **Advanced Uses**:\\n  - Autonomous vehicles (Tesla’s self-driving systems).\\n  - Medical diagnostics (AI analyzing X-rays).\\n  - Financial fraud detection.\\n\\n### **Development Evolution**\\n- **Early AI (Symbolic AI)**: Programs based on explicit rules and logic (e.g., early chess computers).\\n- **Modern AI (Data-Driven)**: Relies on massive datasets and algorithms like neural networks.\\n\\n### **Challenges & Ethics**\\n- **Technical Challenges**:\\n  - **Data Dependency**: Requires large, high-quality datasets (risk of bias if data isn’t representative).\\n  - **Explainability**: \"Black box\" models can be hard to interpret.\\n- **Ethical Concerns**:\\n  - **Bias & Fairness**: AI systems can perpetuate societal biases (e.g., facial recognition disparities).\\n  - **Job Displacement**: Automation may reduce certain jobs.\\n  - **Privacy**: Use of personal data for training models.\\n\\n### **Future Directions**\\n- Research focuses on achieving **General AI**, though this remains speculative.\\n- Ethical guidelines and regulations are emerging to ensure responsible use.\\n\\n### **Key Takeaways**\\n- **AI ≠ Human Intelligence**: Current systems are specialized tools, not sentient beings.\\n- **Interdisciplinary Field**: Combines computer science, math, psychology, and philosophy.\\n\\nIn summary, AI is a transformative technology that enables machines to mimic and enhance human intelligence, driving innovation across industries while raising important societal questions.', additional_kwargs={}, response_metadata={'token_usage': {'completion_tokens': 1228, 'prompt_tokens': 14, 'total_tokens': 1242, 'completion_time': 3.107458176, 'prompt_time': 0.004089256, 'queue_time': 0.445838903, 'total_time': 3.111547432}, 'model_name': 'qwen-qwq-32b', 'system_fingerprint': 'fp_fbb7e6cc39', 'finish_reason': 'stop', 'logprobs': None}, id='run-a7be0327-a4ea-4cf3-9177-d84a6fbe6450-0', usage_metadata={'input_tokens': 14, 'output_tokens': 1228, 'total_tokens': 1242})"
      ]
     },
     "execution_count": 10,
     "metadata": {},
     "output_type": "execute_result"
    }
   ],
   "source": [
    "llm.invoke(\"What is AI?\")"
   ]
  },
  {
   "cell_type": "code",
   "execution_count": 11,
   "metadata": {},
   "outputs": [],
   "source": [
    "llm_with_tools = llm.bind_tools(tools = tools)"
   ]
  },
  {
   "cell_type": "code",
   "execution_count": 13,
   "metadata": {},
   "outputs": [
    {
     "data": {
      "text/plain": [
       "AIMessage(content='', additional_kwargs={'tool_calls': [{'id': 'call_j88c', 'function': {'arguments': '{\"query\": \"recent news on AI\"}', 'name': 'tavily_search_results_json'}, 'type': 'function'}]}, response_metadata={'token_usage': {'completion_tokens': 233, 'prompt_tokens': 356, 'total_tokens': 589, 'completion_time': 0.564066341, 'prompt_time': 0.024911058, 'queue_time': 1.459429398, 'total_time': 0.588977399}, 'model_name': 'qwen-qwq-32b', 'system_fingerprint': 'fp_a56ada6e3f', 'finish_reason': 'tool_calls', 'logprobs': None}, id='run-abb5b7d1-a30a-4553-b350-1168afce27f2-0', tool_calls=[{'name': 'tavily_search_results_json', 'args': {'query': 'recent news on AI'}, 'id': 'call_j88c', 'type': 'tool_call'}], usage_metadata={'input_tokens': 356, 'output_tokens': 233, 'total_tokens': 589})"
      ]
     },
     "execution_count": 13,
     "metadata": {},
     "output_type": "execute_result"
    }
   ],
   "source": [
    "#Execute this call\n",
    "llm_with_tools.invoke(\"What is the recent news on AI?\")"
   ]
  },
  {
   "cell_type": "markdown",
   "metadata": {},
   "source": [
    "## Workflow"
   ]
  },
  {
   "cell_type": "code",
   "execution_count": 14,
   "metadata": {},
   "outputs": [],
   "source": [
    "#State Schema\n",
    "from typing_extensions import TypedDict \n",
    "from langchain_core.messages import AnyMessage #Human msg or AI msg\n",
    "from typing import Annotated #labelling\n",
    "from langgraph.graph.message import add_messages ##Reducers in Langgraph\n"
   ]
  },
  {
   "cell_type": "code",
   "execution_count": 15,
   "metadata": {},
   "outputs": [],
   "source": [
    "class State(TypedDict):\n",
    "    messages: Annotated[list[AnyMessage], add_messages]\n",
    "    #add_messages it will not override inside this particular variable instead it will append messages inside this particular variable and \n",
    "    #return type will be date.\n"
   ]
  },
  {
   "cell_type": "code",
   "execution_count": 16,
   "metadata": {},
   "outputs": [],
   "source": [
    "### Entire Chatbot with langraph\n",
    "from IPython.display import Image,display\n",
    "from langgraph.graph import StateGraph, START, END\n",
    "from langgraph.prebuilt import ToolNode\n",
    "from langgraph.prebuilt import tools_condition"
   ]
  },
  {
   "cell_type": "code",
   "execution_count": 21,
   "metadata": {},
   "outputs": [
    {
     "data": {
      "image/png": "[encoded data removed]",
      "text/plain": [
       "<IPython.core.display.Image object>"
      ]
     },
     "metadata": {},
     "output_type": "display_data"
    }
   ],
   "source": [
    "def tool_calling_llm(state:State):\n",
    "    return {\"messages\": [llm_with_tools.invoke(state[\"messages\"])]}\n",
    "\n",
    "##Build graph\n",
    "builder = StateGraph(State)\n",
    "builder.add_node(\"tool_calling_llm\",tool_calling_llm)\n",
    "builder.add_node(\"tools\",ToolNode(tools))\n",
    "\n",
    "##Edges\n",
    "builder.add_edge(START, \"tool_calling_llm\")\n",
    "builder.add_conditional_edges(\n",
    "    \"tool_calling_llm\", \n",
    "    #If the latest message (result) from assistant is a tool call --> tools_condition routes to tool by default\n",
    "    #If the latest message (result) from assistant is not a tool call --> tools_condition routes to tool\n",
    "tools_condition,\n",
    ")\n",
    "builder.add_edge(\"tools\",\"tool_calling_llm\")\n",
    "\n",
    "graph = builder.compile()\n",
    "\n",
    "#View\n",
    "display(Image(graph.get_graph().draw_mermaid_png()))"
   ]
  },
  {
   "cell_type": "code",
   "execution_count": 22,
   "metadata": {},
   "outputs": [
    {
     "name": "stdout",
     "output_type": "stream",
     "text": [
      "================================\u001b[1m Human Message \u001b[0m=================================\n",
      "\n",
      "1706.03762\n",
      "==================================\u001b[1m Ai Message \u001b[0m==================================\n",
      "Tool Calls:\n",
      "  arxiv (call_6gn3)\n",
      " Call ID: call_6gn3\n",
      "  Args:\n",
      "    query: 1706.03762\n",
      "=================================\u001b[1m Tool Message \u001b[0m=================================\n",
      "Name: arxiv\n",
      "\n",
      "Published: 2023-08-02\n",
      "Title: Attention Is All You Need\n",
      "Authors: Ashish Vaswani, Noam Shazeer, Niki Parmar, Jakob Uszkoreit, Llion Jones, Aidan N. Gomez, Lukasz Kaiser, Illia Polosukhin\n",
      "Summary: The dominant sequence transduction models are based on complex recurrent or\n",
      "convolutional neural networks in an encoder-decoder configuration. The best\n",
      "performing models also connect the encoder and decoder through an attention\n",
      "mechanism. We propose a new simple network architecture, the Transformer, base\n",
      "==================================\u001b[1m Ai Message \u001b[0m==================================\n",
      "\n",
      "It seems like you're looking at the seminal 2017 paper introducing the Transformer architecture, which revolutionized NLP by replacing recurrence with self-attention mechanisms. Would you like me to:\n",
      "\n",
      "1. Explain the key contributions of this paper?\n",
      "2. Compare it to earlier RNN/CNN models?\n",
      "3. Discuss its impact on modern AI (e.g., connection to BERT, GPT, etc.)?\n",
      "4. Find additional resources or applications?\n",
      "\n",
      "Let me know how you'd like to proceed!\n"
     ]
    }
   ],
   "source": [
    "messages = graph.invoke({\"messages\": \"1706.03762\"})\n",
    "for m in messages['messages']:\n",
    "    m.pretty_print()"
   ]
  },
  {
   "cell_type": "code",
   "execution_count": 23,
   "metadata": {},
   "outputs": [
    {
     "name": "stdout",
     "output_type": "stream",
     "text": [
      "================================\u001b[1m Human Message \u001b[0m=================================\n",
      "\n",
      "My name is rageswari\n",
      "==================================\u001b[1m Ai Message \u001b[0m==================================\n",
      "\n",
      "Hello Rageswari! Nice to meet you. How can I assist you today? Feel free to ask me any questions or let me know if you'd like help finding information! 😊\n"
     ]
    }
   ],
   "source": [
    "messages = graph.invoke({\"messages\": \"My name is rageswari\"})\n",
    "for m in messages['messages']:\n",
    "    m.pretty_print()"
   ]
  },
  {
   "cell_type": "code",
   "execution_count": 24,
   "metadata": {},
   "outputs": [
    {
     "name": "stdout",
     "output_type": "stream",
     "text": [
      "================================\u001b[1m Human Message \u001b[0m=================================\n",
      "\n",
      "My name is rageswari and please tell me the recent research paper on quantum computing?\n",
      "==================================\u001b[1m Ai Message \u001b[0m==================================\n",
      "Tool Calls:\n",
      "  arxiv (call_m8vs)\n",
      " Call ID: call_m8vs\n",
      "  Args:\n",
      "    query: quantum computing\n",
      "=================================\u001b[1m Tool Message \u001b[0m=================================\n",
      "Name: arxiv\n",
      "\n",
      "Published: 2022-08-01\n",
      "Title: The Rise of Quantum Internet Computing\n",
      "Authors: Seng W. Loke\n",
      "Summary: This article highlights quantum Internet computing as referring to\n",
      "distributed quantum computing over the quantum Internet, analogous to\n",
      "(classical) Internet computing involving (classical) distributed computing over\n",
      "the (classical) Internet. Relevant to quantum Internet computing would be areas\n",
      "of study such as quantum protocols for distributed nodes using quantum\n",
      "information for computations, qua\n",
      "==================================\u001b[1m Ai Message \u001b[0m==================================\n",
      "\n",
      "Here’s a recent research paper from arXiv on quantum computing based on your query:\n",
      "\n",
      "**Title**: \"The Rise of Quantum Internet Computing\"  \n",
      "**Author**: Seng W. Loke  \n",
      "**Published**: August 2022  \n",
      "**Summary**: This paper discusses quantum Internet computing, focusing on distributed quantum computing over a quantum network. It explores protocols for coordinating quantum computations across nodes, emphasizing how quantum information enables novel computational models and networking strategies.\n",
      "\n",
      "While this is among the latest entries retrieved, you may want to verify if more recent papers (e.g., from 2023/2024) exist, as arXiv updates frequently. Let me know if you'd like further details or additional searches!\n"
     ]
    }
   ],
   "source": [
    "messages = graph.invoke({\"messages\": \"My name is rageswari and please tell me the recent research paper on quantum computing?\"})\n",
    "for m in messages['messages']:\n",
    "    m.pretty_print()"
   ]
  },
  {
   "cell_type": "code",
   "execution_count": 25,
   "metadata": {},
   "outputs": [
    {
     "name": "stdout",
     "output_type": "stream",
     "text": [
      "================================\u001b[1m Human Message \u001b[0m=================================\n",
      "\n",
      "What is recent AI news and then please tell me the recent research paper on quantum computing?\n",
      "==================================\u001b[1m Ai Message \u001b[0m==================================\n",
      "Tool Calls:\n",
      "  tavily_search_results_json (call_xfyq)\n",
      " Call ID: call_xfyq\n",
      "  Args:\n",
      "    query: recent AI news\n",
      "  arxiv (call_xm8n)\n",
      " Call ID: call_xm8n\n",
      "  Args:\n",
      "    query: quantum computing\n",
      "=================================\u001b[1m Tool Message \u001b[0m=================================\n",
      "Name: tavily_search_results_json\n",
      "\n",
      "[{\"url\": \"https://www.artificialintelligence-news.com/\", \"content\": \"March 4, 2025\\nAutoscience Carl: The first AI scientist writing peer-reviewed papers\\nApplications\\nMarch 3, 2025\\nDeep Learning\\nAlibaba Qwen QwQ-32B: Scaled reinforcement learning showcase\\nArtificial Intelligence\\nMarch 6, 2025\\nDeepSeek-R1 reasoning models rival OpenAI in performance\\nArtificial Intelligence\\nJanuary 20, 2025\\nNew AI training techniques aim to overcome current challenges\\nDeep & Reinforcement Learning\\nNovember 28, 2024 [...] Artificial Intelligence\\nMarch 14, 2025\\nOpenAI and Google call for US government action to secure AI lead\\n\\nArtificial Intelligence\\nMarch 14, 2025\\nCBRE: Leveraging Artificial Intelligence for business growth\\n\\nAGI\\nMarch 14, 2025\\nManus AI agent: breakthrough in China’s agentic AI\\n\\nApplications\\nMarch 13, 2025\\nServiceNow deploys AI agents to boost enterprise workflows [...] Latest\\nView All Latest\\n\\nSponsored Content\\nMarch 17, 2025\\nThe Kingdom’s digital transformation showcased at Smart Data & AI Summit\\n\\nArtificial Intelligence\\nMarch 17, 2025\\nBaidu undercuts rival AI models with ERNIE 4.5 and ERNIE X1\\n\\nArtificial Intelligence\\nMarch 17, 2025\\nDream properties at the touch of a button: Quant and Huawei in Saudi Arabia\\n\\nArtificial Intelligence\\nMarch 17, 2025\\nDeepSeek is a reminder to approach the AI unknown with caution\"}, {\"url\": \"https://www.nbcnews.com/artificial-intelligence\", \"content\": \"ARTIFICIAL INTELLIGENCE\\nThe latest news and top stories on artificial intelligence, including ChatGPT, AI Chatbot and Bard.\\n Getty Images\\nARTIFICIAL INTELLIGENCE\\n'Billionaires versus billionaires': OpenAI feud between Elon Musk, Sam Altman faces federal judge\\n SeongJoon Cho / Bloomberg via Getty Images file\\nARTIFICIAL INTELLIGENCE\\nOpenAI partners with U.S. National Laboratories on scientific research, nuclear weapons security\\nAI NEWS [...] TOP VIDEO\\n 03:36 -----\\nAI startup DeepSeek causes buzz in China but draws global scrutiny over censorship and security\\nNBC News NOW\\n 02:03 -----\\nA.I. leaders say China may have copied U.S. technology\\nNightly News\\n 08:23 -----\\nNew Chinese A.I. tool 'DeepSeek' competes with American models\\nNBC News NOW\\n 01:09 -----\\nChinese A.I. app shakes up Silicon Valley, causing Wall Street selloff\\nNightly News\\n 02:43 -----\\nFast food goes high tech with new A.I. drive-thrus\\nNightly News\\n 03:50 ----- [...] Oscar front-runner ‘The Brutalist’ faces controversy of AI enhancements\\nNBC News NOW\\n 03:11 -----\\nTrump announces 'Stargate' AI infrastructure project with 'colossal data centers'\\nNBC News NOW\\n 01:29 -----\\nApple is poised to become the first publicly traded company worth four trillion dollars\\nNightly News\\n 02:28 -----\\nA.I. Revolution: How artificial intelligence is helping children with dyslexia\\nNightly News\\n 05:48 -----\\nDoctors seek help from AI in medical diagnosis\\nNBC News NOW\\n 02:59 -----\"}, {\"url\": \"https://techcrunch.com/category/artificial-intelligence/\", \"content\": \"Maxwell Zeff\\n\\n4 days ago\\n\\n\\n\\nMedia & Entertainment\\nYouTube rolls out a free AI music-making tool for creators\\n\\nSarah Perez\\n\\n4 days ago\\n\\n\\n\\nAI\\nAmazon CEO Andy Jassy urges companies to invest heavily in AI\\n\\nRebecca Szkutak\\n\\n4 days ago\\n\\n\\n\\nClimate\\nGoogle thinks AI can untangle the electrical grid’s bureaucracy\\n\\nTim De Chant\\n\\n4 days ago\\n\\n\\n\\nAI\\nIncident.io raises $62M at a $400M valuation to help IT teams move fast when things break\\n\\nIngrid Lunden\\n\\n4 days ago [...] AI\\nAI models still struggle to debug software, Microsoft study shows\\n\\nKyle Wiggers\\n\\n4 days ago\\n\\n\\n\\nAI\\nThe US Secretary of Education referred to AI as ‘A1,’ like the steak sauce\\n\\nAmanda Silberling\\n\\n4 days ago\\n\\n\\n\\nApps\\nCanva is getting AI image generation, interactive coding, spreadsheets, and more\\n\\nIvan Mehta\\n\\n4 days ago\\n\\n\\n\\nAI\\nLiveKit’s tools power real-time communications, including OpenAI’s Voice Mode\\n\\nKyle Wiggers\\n\\n4 days ago\\n\\n\\n\\nAI\\nOpenAI updates ChatGPT to reference your past chats [...] AI\\nThe rise of AI ‘reasoning’ models is making benchmarking more expensive\\n\\nKyle Wiggers\\n\\n4 days ago\\n\\n\\n\\nFintech\\nAI insurtech Ominimo bags its first investment at a $220M valuation\\n\\nIngrid Lunden\\n\\n4 days ago\\n\\n\\n\\nAI\\nElon Musk’s AI company, xAI, launches an API for Grok 3\\n\\nKyle Wiggers\\n\\n4 days ago\\n\\n\\n\\nAI\\nGoogle to embrace Anthropic’s standard for connecting AI models to data\\n\\nKyle Wiggers\\n\\n5 days ago\\n\\n\\n\\nAI\\nOpenAI countersues Elon Musk, calls for enjoinment from ‘further unlawful and unfair action’\"}, {\"url\": \"https://www.wsj.com/tech/ai\", \"content\": \"McDonald’s Gives Its Restaurants an AI Makeover\\nThe fast-food giant’s new initiative uses artificial intelligence to target order accuracy and help restaurants detect equipment issues before they fail.\\nBy\\nIsabelle Bousquetteand\\nBelle Lin\\n4 min read\\n\\nBeijing Ramps Up Efforts For Tech Independence\\nIn a speech to the country’s lawmakers, Chinese Premier Li Qiang said AI would be key to boosting China’s digital economy.\\nBy\\nRaffaele Huang\\n1 min read [...] This Scientist Left OpenAI Last Year. His Startup Is Already Worth $30 Billion.\\n5 min read\\n\\nTrump, Chip Maker TSMC Announce $100 Billion Investment in U.S.\\n4 min read\\n\\nA Disney Worker Downloaded an AI Tool. It Led to a Hack That Ruined His Life.\\n6 min read\\n\\nLarry Ellison’s Half-Billion-Dollar Quest to Change Farming Has Been a Bust\\nLong read\\n\\nChinese Buyers Are Ordering Nvidia’s Newest AI Chips, Defying U.S. Curbs\\n5 min read\\nAdvertisement\\n\\nRelated Opinion\\nOPINION [...] Notable & Quotable\"}, {\"url\": \"https://www.wired.com/tag/artificial-intelligence/\", \"content\": \"### DeepSeek’s Safety Guardrails Failed Every Test Researchers Threw at Its AI Chatbot\\nBy Matt Burgess and Lily Hay Newman\\nBusiness\\n### DeepSeek Has Gotten OpenAI Fired Up\\nBy Zoë Schiffer\\nGear\\n### Your Pizza Guy Is Now AI\\nBy Julian Chokkattu\\nSecurity\\n### Exposed DeepSeek Database Revealed Chat Prompts and Internal Data\\nBy Lily Hay Newman and Matt Burgess\\nBusiness\\n### DeepSeek’s New AI Model Sparks Shock, Awe, and Questions From US Competitors\\nBy Will Knight\\nGear\"}]\n",
      "=================================\u001b[1m Tool Message \u001b[0m=================================\n",
      "Name: arxiv\n",
      "\n",
      "Published: 2022-08-01\n",
      "Title: The Rise of Quantum Internet Computing\n",
      "Authors: Seng W. Loke\n",
      "Summary: This article highlights quantum Internet computing as referring to\n",
      "distributed quantum computing over the quantum Internet, analogous to\n",
      "(classical) Internet computing involving (classical) distributed computing over\n",
      "the (classical) Internet. Relevant to quantum Internet computing would be areas\n",
      "of study such as quantum protocols for distributed nodes using quantum\n",
      "information for computations, qua\n",
      "==================================\u001b[1m Ai Message \u001b[0m==================================\n",
      "\n",
      "Here's the information based on the tools' responses:\n",
      "\n",
      "### Recent AI News Highlights (as of Q1 2025):\n",
      "1. **Breakthrough Models**:  \n",
      "   - **DeepSeek-R1** (China) achieved reasoning performance rivaling OpenAI's models, sparking global scrutiny over security and censorship.  \n",
      "   - Baidu unveiled **ERNIE 4.5/X1**, offering cost-efficient AI tools to compete with US giants.  \n",
      "\n",
      "2. **Industry & Policy**:  \n",
      "   - OpenAI and Google urged U.S. government action to maintain AI leadership.  \n",
      "   - **DeepSeek's safety flaws** exposed after failing audits, highlighting regulatory concerns.  \n",
      "   - McDonald’s integrated AI to improve supply chain efficiency and equipment monitoring.  \n",
      "\n",
      "3. **Global Developments**:  \n",
      "   - China prioritized AI for its digital economy, while Trump announced **Stargate AI** infrastructure projects.  \n",
      "   - NVIDIA’s AI chips continued to be in high demand despite U.S. export restrictions.  \n",
      "\n",
      "---\n",
      "\n",
      "### Recent Quantum Computing Research Paper (from ArXiv):\n",
      "**Title**: *The Rise of Quantum Internet Computing* (Published Aug 2022)  \n",
      "**Authors**: Seng W. Loke  \n",
      "**Summary**:  \n",
      "Explores **quantum Internet computing**, focusing on distributed quantum computing over quantum networks. Discusses protocols for quantum nodes, entanglement distribution, and challenges in scaling quantum systems.  \n",
      "**Key Areas**: Quantum protocols, distributed quantum networks, and foundational concepts for quantum internet architecture.  \n",
      "\n",
      "---\n",
      "\n",
      "### Notes:  \n",
      "- The ArXiv paper provided is from 2022. For **more recent quantum computing research** (2023–2024), I can refine the search terms or check updated databases. Let me know!  \n",
      "\n",
      "Would you like me to expand on any specific news item or clarify technical aspects of the quantum paper?\n"
     ]
    }
   ],
   "source": [
    "messages = graph.invoke({\"messages\": \"What is recent AI news and then please tell me the recent research paper on quantum computing?\"})\n",
    "for m in messages['messages']:\n",
    "    m.pretty_print()"
   ]
  },
  {
   "cell_type": "code",
   "execution_count": null,
   "metadata": {},
   "outputs": [],
   "source": []
  }
 ],
 "metadata": {
  "kernelspec": {
   "display_name": ".venv",
   "language": "python",
   "name": "python3"
  },
  "language_info": {
   "codemirror_mode": {
    "name": "ipython",
    "version": 3
   },
   "file_extension": ".py",
   "mimetype": "text/x-python",
   "name": "python",
   "nbconvert_exporter": "python",
   "pygments_lexer": "ipython3",
   "version": "3.12.2"
  }
 },
 "nbformat": 4,
 "nbformat_minor": 2
}
